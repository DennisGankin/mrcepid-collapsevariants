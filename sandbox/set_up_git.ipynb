{
 "cells": [
  {
   "cell_type": "code",
   "execution_count": 1,
   "id": "4105ef00",
   "metadata": {
    "collapsed": true,
    "jupyter": {
     "outputs_hidden": true
    }
   },
   "outputs": [
    {
     "name": "stdout",
     "output_type": "stream",
     "text": [
      "user.name=AlexanderMoerseburg\n",
      "user.email=alexandermoerseburg@gmail.com\n",
      "Cloning into 'mrcepid-collapsevariants'...\n",
      "remote: Enumerating objects: 78, done.        \n",
      "remote: Counting objects: 100% (78/78), done.        \n",
      "remote: Compressing objects: 100% (50/50), done.        \n",
      "remote: Total 78 (delta 36), reused 62 (delta 23), pack-reused 0        \n",
      "Unpacking objects: 100% (78/78), done.\n"
     ]
    }
   ],
   "source": [
    "git config --global user.name \"AlexanderMoerseburg\"\n",
    "git config --global user.email \"alexandermoerseburg@gmail.com\"\n",
    "\n",
    "git config --list\n",
    "\n",
    "git clone -b gene_set_burden_experimental --single-branch https://github.com/mrcepid-rap/mrcepid-collapsevariants.git"
   ]
  },
  {
   "cell_type": "code",
   "execution_count": null,
   "id": "2d1d8a58",
   "metadata": {},
   "outputs": [],
   "source": [
    "#cd mrcepid-collapsevariants\n",
    "#ls\n",
    "#cd ..\n",
    "#cp set_up_git.ipynb mrcepid-collapsevariants/sandbox"
   ]
  },
  {
   "cell_type": "code",
   "execution_count": 5,
   "id": "a73c3a1d",
   "metadata": {
    "collapsed": true,
    "jupyter": {
     "outputs_hidden": true
    }
   },
   "outputs": [
    {
     "name": "stdout",
     "output_type": "stream",
     "text": [
      "[gene_set_burden_experimental 41a4970] test_commit_from_ukb_rap\n",
      " 2 files changed, 234 insertions(+)\n",
      " create mode 100644 sandbox/.ipynb_checkpoints/set_up_git-checkpoint.ipynb\n",
      " create mode 100644 sandbox/set_up_git.ipynb\n"
     ]
    }
   ],
   "source": [
    "git add .\n",
    "git commit -m \"test_commit_from_ukb_rap\""
   ]
  },
  {
   "cell_type": "code",
   "execution_count": 6,
   "id": "d7083822",
   "metadata": {},
   "outputs": [
    {
     "name": "stdout",
     "output_type": "stream",
     "text": [
      "On branch gene_set_burden_experimental\n",
      "Your branch is ahead of 'origin/gene_set_burden_experimental' by 1 commit.\n",
      "  (use \"git push\" to publish your local commits)\n",
      "\n",
      "nothing to commit, working tree clean\n"
     ]
    }
   ],
   "source": [
    "git status"
   ]
  },
  {
   "cell_type": "code",
   "execution_count": 1,
   "id": "ae62ae35",
   "metadata": {
    "collapsed": true,
    "jupyter": {
     "outputs_hidden": true
    }
   },
   "outputs": [
    {
     "name": "stdout",
     "output_type": "stream",
     "text": [
      "user.name=AlexanderMoerseburg\n",
      "user.email=alexandermoerseburg@gmail.com\n",
      "core.repositoryformatversion=0\n",
      "core.filemode=true\n",
      "core.bare=false\n",
      "core.logallrefupdates=true\n",
      "remote.origin.url=https://github.com/mrcepid-rap/mrcepid-collapsevariants.git\n",
      "remote.origin.fetch=+refs/heads/gene_set_burden_experimental:refs/remotes/origin/gene_set_burden_experimental\n",
      "branch.gene_set_burden_experimental.remote=origin\n",
      "branch.gene_set_burden_experimental.merge=refs/heads/gene_set_burden_experimental\n"
     ]
    }
   ],
   "source": [
    "git config --list"
   ]
  },
  {
   "cell_type": "markdown",
   "id": "0f592670",
   "metadata": {},
   "source": [
    "- for push to github please open terminal and execute cmds below, git push prompting does not work in juypter nb"
   ]
  },
  {
   "cell_type": "code",
   "execution_count": 3,
   "id": "fc69aa1d",
   "metadata": {},
   "outputs": [],
   "source": [
    "#git status\n",
    "#git push"
   ]
  }
 ],
 "metadata": {
  "kernelspec": {
   "display_name": "Bash",
   "language": "bash",
   "name": "bash"
  },
  "language_info": {
   "codemirror_mode": "shell",
   "file_extension": ".sh",
   "mimetype": "text/x-sh",
   "name": "bash"
  }
 },
 "nbformat": 4,
 "nbformat_minor": 5
}
