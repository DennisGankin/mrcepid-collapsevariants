{
 "cells": [
  {
   "cell_type": "code",
   "execution_count": 1,
   "id": "5425f04d",
   "metadata": {
    "collapsed": true,
    "jupyter": {
     "outputs_hidden": true
    }
   },
   "outputs": [
    {
     "name": "stdout",
     "output_type": "stream",
     "text": [
      "user.name=AlexanderMoerseburg\n",
      "user.email=alexandermoerseburg@gmail.com\n",
      "Cloning into 'mrcepid-collapsevariants'...\n",
      "remote: Enumerating objects: 78, done.        \n",
      "remote: Counting objects: 100% (78/78), done.        \n",
      "remote: Compressing objects: 100% (50/50), done.        \n",
      "remote: Total 78 (delta 36), reused 62 (delta 23), pack-reused 0        \n",
      "Unpacking objects: 100% (78/78), done.\n"
     ]
    }
   ],
   "source": [
    "git config --global user.name \"AlexanderMoerseburg\"\n",
    "git config --global user.email \"alexandermoerseburg@gmail.com\"\n",
    "\n",
    "git config --list\n",
    "\n",
    "git clone -b gene_set_burden_experimental --single-branch https://github.com/mrcepid-rap/mrcepid-collapsevariants.git"
   ]
  },
  {
   "cell_type": "code",
   "execution_count": null,
   "id": "220e872a",
   "metadata": {},
   "outputs": [],
   "source": [
    "#cd mrcepid-collapsevariants\n",
    "#ls\n",
    "#cd ..\n",
    "#cp set_up_git.ipynb mrcepid-collapsevariants/sandbox"
   ]
  },
  {
   "cell_type": "code",
   "execution_count": 1,
   "id": "9f02f98f",
   "metadata": {},
   "outputs": [
    {
     "name": "stdout",
     "output_type": "stream",
     "text": [
      "set_up_git.ipynb\n"
     ]
    }
   ],
   "source": [
    "ls"
   ]
  },
  {
   "cell_type": "code",
   "execution_count": 2,
   "id": "7a88371d",
   "metadata": {},
   "outputs": [],
   "source": [
    "cd .."
   ]
  },
  {
   "cell_type": "code",
   "execution_count": 3,
   "id": "7a135e06",
   "metadata": {},
   "outputs": [
    {
     "name": "stdout",
     "output_type": "stream",
     "text": [
      "Readme.developer.md  dxapp.json   resources  src\n",
      "Readme.md            my_test.txt  sandbox    test\n"
     ]
    }
   ],
   "source": [
    "ls"
   ]
  },
  {
   "cell_type": "code",
   "execution_count": 4,
   "id": "dc89d819",
   "metadata": {},
   "outputs": [
    {
     "name": "stdout",
     "output_type": "stream",
     "text": [
      "On branch gene_set_burden_experimental\n",
      "Your branch is up to date with 'origin/gene_set_burden_experimental'.\n",
      "\n",
      "Untracked files:\n",
      "  (use \"git add <file>...\" to include in what will be committed)\n",
      "\n",
      "\tsandbox/\n",
      "\n",
      "nothing added to commit but untracked files present (use \"git add\" to track)\n"
     ]
    }
   ],
   "source": [
    "git status"
   ]
  },
  {
   "cell_type": "code",
   "execution_count": null,
   "id": "6dc7af5d",
   "metadata": {},
   "outputs": [],
   "source": []
  }
 ],
 "metadata": {
  "kernelspec": {
   "display_name": "Bash",
   "language": "bash",
   "name": "bash"
  },
  "language_info": {
   "codemirror_mode": "shell",
   "file_extension": ".sh",
   "mimetype": "text/x-sh",
   "name": "bash"
  }
 },
 "nbformat": 4,
 "nbformat_minor": 5
}
