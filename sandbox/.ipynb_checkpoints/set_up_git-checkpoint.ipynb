{
 "cells": [
  {
   "cell_type": "code",
   "execution_count": 1,
   "id": "de7fc8c2",
   "metadata": {},
   "outputs": [
    {
     "name": "stdout",
     "output_type": "stream",
     "text": [
      "user.name=AlexanderMoerseburg\n",
      "user.email=alexandermoerseburg@gmail.com\n",
      "Cloning into 'mrcepid-collapsevariants'...\n",
      "remote: Enumerating objects: 78, done.        \n",
      "remote: Counting objects: 100% (78/78), done.        \n",
      "remote: Compressing objects: 100% (50/50), done.        \n",
      "remote: Total 78 (delta 36), reused 62 (delta 23), pack-reused 0        \n",
      "Unpacking objects: 100% (78/78), done.\n"
     ]
    }
   ],
   "source": [
    "git config --global user.name \"AlexanderMoerseburg\"\n",
    "git config --global user.email \"alexandermoerseburg@gmail.com\"\n",
    "\n",
    "git config --list\n",
    "\n",
    "git clone -b gene_set_burden_experimental --single-branch https://github.com/mrcepid-rap/mrcepid-collapsevariants.git"
   ]
  },
  {
   "cell_type": "code",
   "execution_count": 3,
   "id": "5d95189f",
   "metadata": {},
   "outputs": [
    {
     "name": "stdout",
     "output_type": "stream",
     "text": [
      "Readme.developer.md  Readme.md  dxapp.json  my_test.txt  resources  src  test\n"
     ]
    }
   ],
   "source": [
    "cd mrcepid-collapsevariants\n",
    "mkdir sandbox\n",
    "cd ..\n",
    "cp set_up_git.ipynb mrcepid-collapsevariants/sandbox"
   ]
  },
  {
   "cell_type": "code",
   "execution_count": null,
   "id": "61452c1f",
   "metadata": {},
   "outputs": [],
   "source": []
  },
  {
   "cell_type": "code",
   "execution_count": null,
   "id": "703093ec",
   "metadata": {},
   "outputs": [],
   "source": []
  }
 ],
 "metadata": {
  "kernelspec": {
   "display_name": "Bash",
   "language": "bash",
   "name": "bash"
  },
  "language_info": {
   "codemirror_mode": "shell",
   "file_extension": ".sh",
   "mimetype": "text/x-sh",
   "name": "bash"
  }
 },
 "nbformat": 4,
 "nbformat_minor": 5
}
